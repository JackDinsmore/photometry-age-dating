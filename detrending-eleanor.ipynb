{
 "cells": [
  {
   "cell_type": "markdown",
   "metadata": {},
   "source": [
    "# Detrending `eleanor` lightcurves using `lightkurve`\n",
    "\n",
    "We would like to use `lightkurve` detrending procedures on `eleanor`-generated lightcurves. To do this, we will extract the lightcurve of a star (WASP-100b in this example) using `eleanor` and store it as a TPF file. Then we will load the TPF file into `lightkurve` and detrend it."
   ]
  },
  {
   "cell_type": "code",
   "execution_count": 1,
   "metadata": {},
   "outputs": [],
   "source": [
    "import os\n",
    "\n",
    "EXOPLANET = \"WASP-100\"\n",
    "FITS_NAME = EXOPLANET+\"-raw.fits\"\n",
    "FITS_PATH = os.getcwd() # This is kinda cheap and doesn't always work. \n",
    "    # If it fails, replace it with the path of the directory that contains this notebook."
   ]
  },
  {
   "cell_type": "markdown",
   "metadata": {},
   "source": [
    "## Extracting the `eleanor` lightcurve"
   ]
  },
  {
   "cell_type": "code",
   "execution_count": 2,
   "metadata": {},
   "outputs": [
    {
     "name": "stderr",
     "output_type": "stream",
     "text": [
      "Error initializing plugin EntryPoint(name='Windows (alt)', value='keyrings.alt.Windows', group='keyring.backends').\n",
      "Traceback (most recent call last):\n",
      "  File \"/home/jtdinsmo/.local/lib/python3.6/site-packages/keyring/backend.py\", line 203, in _load_plugins\n",
      "    init_func = ep.load()\n",
      "  File \"/home/jtdinsmo/.local/lib/python3.6/site-packages/importlib_metadata/__init__.py\", line 96, in load\n",
      "    module = import_module(match.group('module'))\n",
      "  File \"/usr/lib/python3.6/importlib/__init__.py\", line 126, in import_module\n",
      "    return _bootstrap._gcd_import(name[level:], package, level)\n",
      "  File \"<frozen importlib._bootstrap>\", line 994, in _gcd_import\n",
      "  File \"<frozen importlib._bootstrap>\", line 971, in _find_and_load\n",
      "  File \"<frozen importlib._bootstrap>\", line 955, in _find_and_load_unlocked\n",
      "  File \"<frozen importlib._bootstrap>\", line 665, in _load_unlocked\n",
      "  File \"<frozen importlib._bootstrap_external>\", line 678, in exec_module\n",
      "  File \"<frozen importlib._bootstrap>\", line 219, in _call_with_frames_removed\n",
      "  File \"/usr/lib/python3/dist-packages/keyrings/alt/Windows.py\", line 9, in <module>\n",
      "    from . import file_base\n",
      "  File \"/usr/lib/python3/dist-packages/keyrings/alt/file_base.py\", line 13, in <module>\n",
      "    from keyring.util.escape import escape as escape_for_ini\n",
      "ModuleNotFoundError: No module named 'keyring.util.escape'\n",
      "Error initializing plugin EntryPoint(name='file', value='keyrings.alt.file', group='keyring.backends').\n",
      "Traceback (most recent call last):\n",
      "  File \"/home/jtdinsmo/.local/lib/python3.6/site-packages/keyring/backend.py\", line 203, in _load_plugins\n",
      "    init_func = ep.load()\n",
      "  File \"/home/jtdinsmo/.local/lib/python3.6/site-packages/importlib_metadata/__init__.py\", line 96, in load\n",
      "    module = import_module(match.group('module'))\n",
      "  File \"/usr/lib/python3.6/importlib/__init__.py\", line 126, in import_module\n",
      "    return _bootstrap._gcd_import(name[level:], package, level)\n",
      "  File \"<frozen importlib._bootstrap>\", line 994, in _gcd_import\n",
      "  File \"<frozen importlib._bootstrap>\", line 971, in _find_and_load\n",
      "  File \"<frozen importlib._bootstrap>\", line 955, in _find_and_load_unlocked\n",
      "  File \"<frozen importlib._bootstrap>\", line 665, in _load_unlocked\n",
      "  File \"<frozen importlib._bootstrap_external>\", line 678, in exec_module\n",
      "  File \"<frozen importlib._bootstrap>\", line 219, in _call_with_frames_removed\n",
      "  File \"/usr/lib/python3/dist-packages/keyrings/alt/file.py\", line 11, in <module>\n",
      "    from keyring.util.escape import escape as escape_for_ini\n",
      "ModuleNotFoundError: No module named 'keyring.util.escape'\n",
      "Error initializing plugin EntryPoint(name='pyfs', value='keyrings.alt.pyfs', group='keyring.backends').\n",
      "Traceback (most recent call last):\n",
      "  File \"/home/jtdinsmo/.local/lib/python3.6/site-packages/keyring/backend.py\", line 203, in _load_plugins\n",
      "    init_func = ep.load()\n",
      "  File \"/home/jtdinsmo/.local/lib/python3.6/site-packages/importlib_metadata/__init__.py\", line 96, in load\n",
      "    module = import_module(match.group('module'))\n",
      "  File \"/usr/lib/python3.6/importlib/__init__.py\", line 126, in import_module\n",
      "    return _bootstrap._gcd_import(name[level:], package, level)\n",
      "  File \"<frozen importlib._bootstrap>\", line 994, in _gcd_import\n",
      "  File \"<frozen importlib._bootstrap>\", line 971, in _find_and_load\n",
      "  File \"<frozen importlib._bootstrap>\", line 955, in _find_and_load_unlocked\n",
      "  File \"<frozen importlib._bootstrap>\", line 665, in _load_unlocked\n",
      "  File \"<frozen importlib._bootstrap_external>\", line 678, in exec_module\n",
      "  File \"<frozen importlib._bootstrap>\", line 219, in _call_with_frames_removed\n",
      "  File \"/usr/lib/python3/dist-packages/keyrings/alt/pyfs.py\", line 8, in <module>\n",
      "    from keyring.util.escape import escape as escape_for_ini\n",
      "ModuleNotFoundError: No module named 'keyring.util.escape'\n"
     ]
    }
   ],
   "source": [
    "import eleanor;\n",
    "from IPython.display import Image;\n",
    "from matplotlib import pyplot as plt;\n",
    "import numpy as np;\n",
    "from astropy.io import fits;\n",
    "from astropy.utils.data import get_pkg_data_filename;\n",
    "from astropy import units as u;\n",
    "from astropy.coordinates import SkyCoord;\n",
    "from astropy.table import Table, Column;\n",
    "import warnings;\n",
    "warnings.filterwarnings('ignore');"
   ]
  },
  {
   "cell_type": "markdown",
   "metadata": {},
   "source": [
    "First, we will find the star and load the data."
   ]
  },
  {
   "cell_type": "code",
   "execution_count": 3,
   "metadata": {},
   "outputs": [
    {
     "name": "stdout",
     "output_type": "stream",
     "text": [
      "INFO: Found cached file /home/jtdinsmo/.eleanor/mastDownload/HLSP/hlsp_eleanor_tess_ffi_postcard-s0001-4-1-cal-0902-1078_tess_v2_pc/hlsp_eleanor_tess_ffi_postcard-s0001-4-1-cal-0902-1078_tess_v2_bkg.fits with expected size 78955200. [astroquery.query]\n",
      "INFO: Found cached file /home/jtdinsmo/.eleanor/mastDownload/HLSP/hlsp_eleanor_tess_ffi_postcard-s0001-4-1-cal-0902-1078_tess_v2_pc/hlsp_eleanor_tess_ffi_postcard-s0001-4-1-cal-0902-1078_tess_v2_pc.fits with expected size 158022720. [astroquery.query]\n",
      "INFO: Found cached file /home/jtdinsmo/.eleanor/mastDownload/HLSP/hlsp_eleanor_tess_ffi_postcard-s0001-4-1-cal-0902-1078_tess_v2_pc/hlsp_eleanor_tess_ffi_postcard-s0001-4-1_tess_v2_pm.txt with expected size 237847. [astroquery.query]\n"
     ]
    }
   ],
   "source": [
    "star = eleanor.Source(name=EXOPLANET, sector=1)"
   ]
  },
  {
   "cell_type": "markdown",
   "metadata": {},
   "source": [
    "Then, we will get the lightcurve, using `eleanor`'s background subtraction. We can choose our own aperture if we want, but we can also let `eleanor` choose for us. Both options are provided below."
   ]
  },
  {
   "cell_type": "code",
   "execution_count": null,
   "metadata": {},
   "outputs": [
    {
     "name": "stdout",
     "output_type": "stream",
     "text": [
      "WARNING:tensorflow:From /home/jtdinsmo/.local/lib/python3.6/site-packages/eleanor/targetdata.py:836: The name tf.logging.set_verbosity is deprecated. Please use tf.compat.v1.logging.set_verbosity instead.\n",
      "\n",
      "WARNING:tensorflow:From /home/jtdinsmo/.local/lib/python3.6/site-packages/eleanor/targetdata.py:836: The name tf.logging.ERROR is deprecated. Please use tf.compat.v1.logging.ERROR instead.\n",
      "\n"
     ]
    },
    {
     "name": "stderr",
     "output_type": "stream",
     "text": [
      "  1%|          | 8/1282 [00:00<02:30,  8.46it/s]"
     ]
    }
   ],
   "source": [
    "CUSTOM_APERTURE = False\n",
    "\n",
    "data = eleanor.TargetData(star, height=15, width=15, bkg_size=31, do_psf=True, do_pca=True)\n",
    "if CUSTOM_APERTURE:\n",
    "    eleanor.TargetData.custom_aperture(data, shape='circle', r=2, pos=[7,6], method='exact')\n",
    "    eleanor.TargetData.get_lightcurve(data)\n",
    "    \n",
    "q = data.quality == 0"
   ]
  },
  {
   "cell_type": "markdown",
   "metadata": {},
   "source": [
    "Then we can display the `eleanor` lightcurve and chosen aperture."
   ]
  },
  {
   "cell_type": "code",
   "execution_count": null,
   "metadata": {},
   "outputs": [],
   "source": [
    "fig, (ax1, ax2) = plt.subplots(ncols=2, figsize=(15,4), gridspec_kw={'width_ratios':[1,3]})\n",
    "ax1.imshow(data.tpf[0])\n",
    "ax1.imshow(data.aperture, cmap='Greys', alpha=0.5)\n",
    "ax1.set_title('Aperture over TPF')\n",
    "\n",
    "plt.plot(data.time[q], data.raw_flux[q]/np.nanmedian(data.raw_flux[q])+0.06, 'k', label=\"raw\")\n",
    "plt.plot(data.time[q], data.corr_flux[q]/np.nanmedian(data.corr_flux[q]) + 0.03, 'r', label=\"corrected\")\n",
    "plt.plot(data.time[q], data.pca_flux[q]/np.nanmedian(data.pca_flux[q]), 'g', label=\"pca\")\n",
    "plt.plot(data.time[q], data.psf_flux[q]/np.nanmedian(data.psf_flux[q]) - 0.03, 'b', label=\"psf\")\n",
    "\n",
    "ax2.legend()\n",
    "ax2.set_xlabel('Time [BJD - 2457000]')\n",
    "ax2.set_ylabel('Normalized Flux');"
   ]
  },
  {
   "cell_type": "markdown",
   "metadata": {},
   "source": [
    "When `eleanor` saves data, it encodes the data as a table where each column is labeled with a string. These strings need to be compatible with the labels that `lightkurve` expects, but by default, they are not. Avi extracted the code below from the `TargetData.save` function and modified so that it is compatible with `lightkurve`."
   ]
  },
  {
   "cell_type": "code",
   "execution_count": null,
   "metadata": {},
   "outputs": [],
   "source": [
    "def save_tpf(data, output_fn=None, directory=None):\n",
    "        \"\"\"Saves a created TPF object to a FITS file.\n",
    "\n",
    "        Parameters\n",
    "        ----------\n",
    "        output_fn : str, optional\n",
    "            Filename to save output as. Overrides default naming.\n",
    "        directory : str, optional\n",
    "            Directory to save file into.\n",
    "        \"\"\"\n",
    "        if data.language == 'Australian':\n",
    "            raise ValueError(\"These light curves are upside down. Please don't save them ...\")\n",
    "        \n",
    "        data.set_header()\n",
    "\n",
    "        # if the user did not specify a directory, set it to default\n",
    "        if directory is None:\n",
    "            directory = data.fetch_dir()\n",
    "            \n",
    "        raw       = [e+'_raw'  for e in data.aperture_names]\n",
    "        errors    = [e+'_err'  for e in data.aperture_names]\n",
    "        corrected = [e+'_corr' for e in data.aperture_names]\n",
    "\n",
    "        # Creates table for first extension (tpf, tpf_err, best lc, time, centroids)\n",
    "        ext1 = Table()\n",
    "        ext1['TIME']       = data.time\n",
    "        ext1['TIMECORR']   = data.barycorr\n",
    "        ext1['FLUX']        = data.tpf\n",
    "        ext1['FLUX_ERR']    = data.tpf_err\n",
    "        ext1['RAW_FLUX']   = data.raw_flux\n",
    "        ext1['CORR_FLUX']  = data.corr_flux\n",
    "        ext1['RAW_FLUX_ERR']   = data.flux_err\n",
    "        ext1['QUALITY']    = data.quality\n",
    "        ext1['X_CENTROID'] = data.centroid_xs\n",
    "        ext1['Y_CENTROID'] = data.centroid_ys\n",
    "        ext1['X_COM']      = data.x_com\n",
    "        ext1['Y_COM']      = data.y_com\n",
    "        ext1['FLUX_BKG']   = data.flux_bkg\n",
    "        ext1['CADENCENO']   = data.ffiindex \n",
    "        \n",
    "        \n",
    "        if data.bkg_type == \"PC_LEVEL\":\n",
    "            ext1['FLUX_BKG'] = data.flux_bkg\n",
    "        else:\n",
    "            ext1['FLUX_BKG'] = data.flux_bkg + data.tpf_flux_bkg \n",
    "        \n",
    "\n",
    "        if data.pca_flux is not None:\n",
    "            ext1['PCA_FLUX'] = data.pca_flux\n",
    "        if data.psf_flux is not None:\n",
    "            ext1['PSF_FLUX'] = data.psf_flux\n",
    "\n",
    "        # Creates table for second extension (all apertures)\n",
    "        ext2 = Table()\n",
    "        for i in range(len(data.all_apertures)):\n",
    "            ext2[data.aperture_names[i]] = data.all_apertures[i]\n",
    "\n",
    "        # Creates table for third extention (all raw & corrected fluxes and errors)\n",
    "        ext3 = Table()\n",
    "        for i in range(len(raw)):\n",
    "            ext3[raw[i]]       = data.all_raw_flux[i]\n",
    "            ext3[corrected[i]] = data.all_corr_flux[i]\n",
    "            ext3[errors[i]]    = data.all_flux_err[i]\n",
    "\n",
    "        # Appends aperture to header\n",
    "        data.header.append(fits.Card(keyword='APERTURE', value=data.aperture_names[data.best_ind],\n",
    "                                     comment='Best aperture used for lightcurves in extension 1'))\n",
    "\n",
    "        # Writes TPF to FITS file\n",
    "        primary_hdu = fits.PrimaryHDU(header=data.header)\n",
    "        data_list = [primary_hdu, fits.BinTableHDU(ext1), fits.BinTableHDU(ext2), fits.BinTableHDU(ext3)]\n",
    "        hdu = fits.HDUList(data_list)\n",
    "\n",
    "        if output_fn == None:\n",
    "            path = os.path.join(directory, 'hlsp_eleanor_tess_ffi_tic{0}_s{1:02d}_tess_v{2}_lc.fits'.format(\n",
    "                    data.source_info.tic, data.source_info.sector, eleanor.__version__))\n",
    "        else:\n",
    "            path = os.path.join(directory, output_fn)\n",
    "\n",
    "        hdu.writeto(path, overwrite=True)"
   ]
  },
  {
   "cell_type": "markdown",
   "metadata": {},
   "source": [
    "Finally, we wish to save the subtracted data as a FITS file."
   ]
  },
  {
   "cell_type": "code",
   "execution_count": null,
   "metadata": {},
   "outputs": [],
   "source": [
    "save_tpf(data,output_fn=FITS_NAME,directory = FITS_PATH )"
   ]
  },
  {
   "cell_type": "markdown",
   "metadata": {},
   "source": [
    "## Load the file using `lightkurve`"
   ]
  },
  {
   "cell_type": "markdown",
   "metadata": {},
   "source": [
    "Now that we have used `eleanor` to load and save the star's tpf, we would like to load and detrend it using `lightkurve`."
   ]
  },
  {
   "cell_type": "code",
   "execution_count": null,
   "metadata": {},
   "outputs": [],
   "source": [
    "import lightkurve as lk"
   ]
  },
  {
   "cell_type": "markdown",
   "metadata": {},
   "source": [
    "Load the target pixel file:"
   ]
  },
  {
   "cell_type": "code",
   "execution_count": null,
   "metadata": {},
   "outputs": [],
   "source": [
    "tpf = lk.targetpixelfile.TessTargetPixelFile(FITS_PATH+'/'+FITS_NAME)"
   ]
  },
  {
   "cell_type": "markdown",
   "metadata": {},
   "source": [
    "Define an aperture and plot it:"
   ]
  },
  {
   "cell_type": "code",
   "execution_count": null,
   "metadata": {},
   "outputs": [],
   "source": [
    "aper = tpf.create_threshold_mask()\n",
    "tpf.plot(aperture_mask=aper);"
   ]
  },
  {
   "cell_type": "markdown",
   "metadata": {},
   "source": [
    "Now, we'd like to detrend the lightcurve. There are two methods I have implemented to do this: pca and psf. You can choose which one to use by setting the `CORRECT_MODE` flag below."
   ]
  },
  {
   "cell_type": "code",
   "execution_count": null,
   "metadata": {},
   "outputs": [],
   "source": [
    "lc = tpf.to_lightcurve(aperture_mask=aper)\n",
    "correctedLC = None\n",
    "CORRECT_MODE = \"pca\"\n",
    "\n",
    "NUMBER_PCA_COMPONENTS = 1# Supposed to be \"much smaller than the\" number of stars on the CCD.\n",
    "    # Originally 5\n",
    "\n",
    "if CORRECT_MODE == \"pca\": #(aperture * TPF + background subtraction + cotrending basis vectors)\n",
    "    regressor = tpf.flux[:, ~aper]# The regressor is the inverse of the aperture\n",
    "\n",
    "    dms = lk.DesignMatrix(regressor, name='regressors').pca(NUMBER_PCA_COMPONENTS).append_constant()\n",
    "    corrector = lk.RegressionCorrector(lc)\n",
    "    correctedLC = corrector.correct(dms)\n",
    "    \n",
    "if CORRECT_MODE == \"pld\":# Don't know what this is, but I think it's similar to PSF.\n",
    "    from lightkurve.correctors import TessPLDCorrector\n",
    "    corrector = TessPLDCorrector(tpf)\n",
    "    correctedLC = corrector.correct()"
   ]
  },
  {
   "cell_type": "markdown",
   "metadata": {},
   "source": [
    "Finally, we plot the lightkurve."
   ]
  },
  {
   "cell_type": "code",
   "execution_count": null,
   "metadata": {},
   "outputs": [],
   "source": [
    "plot = lc.flatten().plot();# This is where you would flatten the curves\n",
    "plot.set_title(\"Uncorrected\");\n",
    "plot2 = correctedLC.flatten().plot();# This is where you would flatten the curves\n",
    "plot2.set_title(\"Corrected\");"
   ]
  },
  {
   "cell_type": "code",
   "execution_count": null,
   "metadata": {},
   "outputs": [],
   "source": []
  }
 ],
 "metadata": {
  "kernelspec": {
   "display_name": "Python 3",
   "language": "python",
   "name": "python3"
  },
  "language_info": {
   "codemirror_mode": {
    "name": "ipython",
    "version": 3
   },
   "file_extension": ".py",
   "mimetype": "text/x-python",
   "name": "python",
   "nbconvert_exporter": "python",
   "pygments_lexer": "ipython3",
   "version": "3.6.8"
  }
 },
 "nbformat": 4,
 "nbformat_minor": 4
}
