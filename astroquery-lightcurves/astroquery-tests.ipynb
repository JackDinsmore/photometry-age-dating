{
 "cells": [
  {
   "cell_type": "markdown",
   "metadata": {},
   "source": [
    "# Practice querying MAST\n",
    "\n",
    "This notebook tests some of the methods I think I will apply to extract the lightcurves of all the stars neighboring one of the clusters we're measuring. It also includes some tools to access CDIPS, a project that calculated and saved lightcurves for many clusters that we could potentially check ours against."
   ]
  },
  {
   "cell_type": "code",
   "execution_count": 35,
   "metadata": {},
   "outputs": [],
   "source": [
    "%matplotlib inline\n",
    "from astroquery.mast import Catalogs\n",
    "from astropy.io import ascii\n",
    "import numpy as np\n",
    "from astropy.table import Table\n",
    "import os\n",
    "import lightkurve as lk\n",
    "\n",
    "import eleanor\n",
    "from astropy.coordinates import SkyCoord\n",
    "from astropy import units as u\n",
    "from matplotlib import pyplot as plt\n",
    "\n",
    "CLUSTER = \"NGC 6231\"\n",
    "LIGHTKURVE_CACHE = \"/home/jtdinsmo/.lightkurve-cache/tesscut/\"\n",
    "\n",
    "COORDS = {\"M34\":(40.53083, 42.74615), \"M7\":(268.46325, -34.79283), \"NGC 752\":(29.421, 37.785), \"IC 2391\": (130.133, -53.033), \n",
    "          \"NGC 6231\":(253.53546, -41.82667), \"Lambda Orionis\":(83.784490, 9.934156), \"NGC 3532\":(166.44923, -58.7705),\n",
    "          \"Collinder 140\":(\"111.113000\", \"-31.850000\"),\n",
    "          \"Omega Cen\": (201.69121, -47.47686), \"47 Tuc\": (6.022329, -72.081444), \"NGC 6752\": (287.71575, -59.98185)}\n",
    "\n",
    "LOWER_LIMIT = 10\n",
    "SCALE_FACTOR=1.5"
   ]
  },
  {
   "cell_type": "code",
   "execution_count": 54,
   "metadata": {},
   "outputs": [
    {
     "name": "stdout",
     "output_type": "stream",
     "text": [
      "    ID           ra               dec        ... wdflag     dstArcSec     \n",
      "--------- ---------------- ----------------- ... ------ ------------------\n",
      "247566429 253.972226164741 -42.0645489162032 ...      0 1449.5006673043172\n",
      "338738517 253.344182244367 -41.4502206825211 ...      0  1449.638587824605\n",
      "339572897 253.641344327079  -41.431783822144 ...      0 1449.8609171121795\n",
      "247261159 253.558276008695 -42.2293470496477 ...      0 1450.9207757918932\n",
      "338738426 253.317994310905 -41.4574025871822 ...      0  1452.407264436899\n",
      "337802219 252.996356460077  -41.865318382823 ...      0 1452.4375786792516\n",
      "337806655  253.07725053885 -41.6120414419164 ...      0  1453.606896325688\n",
      "340415548 253.837493749024 -41.4917650605298 ...     -1 1453.7939428329823\n",
      "337803850 253.008633800288 -41.7313744599094 ...      0  1455.323806238903\n",
      "247268545 253.782904744618 -42.1867119375014 ...      0 1455.3852660710568\n",
      "1428\n"
     ]
    }
   ],
   "source": [
    "if CLUSTER + \".dat\" in os.listdir():\n",
    "    brightData = Table.read(CLUSTER + \".dat\", format=\"ascii\")\n",
    "else:\n",
    "    catalogData = Catalogs.query_object(catalog=\"Tic\",objectname=CLUSTER, radius=\"0.5 deg\")\n",
    "    brightData = catalogData[:]\n",
    "    brightData = brightData[brightData[\"Tmag\"] <= 13]\n",
    "    ascii.write(brightData, CLUSTER + \".dat\")\n",
    "    \n",
    "print(brightData[1000:1010])\n",
    "print(len(brightData))\n",
    "# Cluster coords: 253.53546, -41.82667"
   ]
  },
  {
   "cell_type": "markdown",
   "metadata": {},
   "source": [
    "For this test, we're going to only check out one star. The index of this star is set here:"
   ]
  },
  {
   "cell_type": "code",
   "execution_count": 68,
   "metadata": {},
   "outputs": [
    {
     "name": "stdout",
     "output_type": "stream",
     "text": [
      "<SkyCoord (ICRS): (ra, dec) in deg\n",
      "    (253.97222616, -42.06454892)>\n"
     ]
    }
   ],
   "source": [
    "i=1000\n",
    "coords = SkyCoord(ra=brightData[i][\"ra\"], dec=brightData[i][\"dec\"], unit=(u.deg, u.deg))\n",
    "print(coords)"
   ]
  },
  {
   "cell_type": "markdown",
   "metadata": {},
   "source": [
    "## Eleanor method (slow and bad)"
   ]
  },
  {
   "cell_type": "markdown",
   "metadata": {},
   "source": [
    "With a little experimenting, I have come to the conclusion that I can't make `lightkurve` generate its own postcards for these stars, but I can make `eleanor` do it. So here's the code to download the `eleanor` postcard.\n",
    "\n",
    "Aside from the issues with this method, it is nice because `eleanor` seems to use shorter exposure images, so that the stars are more resolved, which is important for our purposes."
   ]
  },
  {
   "cell_type": "code",
   "execution_count": 56,
   "metadata": {},
   "outputs": [
    {
     "name": "stdout",
     "output_type": "stream",
     "text": [
      "Downloading URL https://mast.stsci.edu/tesscut/api/v0.1/astrocut?ra=253.972226164741&dec=-42.0645489162032&y=31&x=31&units=px&sector=12 to /home/jtdinsmo/.eleanor/tesscut/tesscut_20200714164315.zip ... [Done]\n",
      "Inflating...\n"
     ]
    }
   ],
   "source": [
    "star = eleanor.Source(coords=coords, tc=True)"
   ]
  },
  {
   "cell_type": "markdown",
   "metadata": {},
   "source": [
    "And here's how to display it."
   ]
  },
  {
   "cell_type": "code",
   "execution_count": 57,
   "metadata": {},
   "outputs": [
    {
     "name": "stderr",
     "output_type": "stream",
     "text": [
      "WARNING: FITSFixedWarning: 'datfix' made the change 'Set DATE-REF to '1858-11-17' from MJD-REF.\n",
      "Set MJD-OBS to 58624.458010 from DATE-OBS.\n",
      "Set MJD-END to 58652.374665 from DATE-END'. [astropy.wcs.wcs]\n",
      "WARNING: The \"exact\" method is not yet implemented for rectangular apertures -- using \"subpixel\" method with \"subpixels=32\" [photutils.aperture.core]\n",
      "100%|██████████| 1289/1289 [00:26<00:00, 49.04it/s]\n"
     ]
    },
    {
     "data": {
      "image/png": "[encoded data removed]",
      "text/plain": [
       "<Figure size 720x288 with 2 Axes>"
      ]
     },
     "metadata": {
      "needs_background": "light"
     },
     "output_type": "display_data"
    }
   ],
   "source": [
    "data = eleanor.TargetData(star, height=15, width=15, bkg_size=31, do_psf=True, do_pca=False)\n",
    "\n",
    "fig, (ax1, ax2) = plt.subplots(ncols=2, figsize=(10,4))\n",
    "ax1.imshow(data.tpf[0])\n",
    "ax1.set_title('Target Pixel File')\n",
    "ax2.imshow(data.bkg_tpf[0])\n",
    "ax2.set_title('2D interpolated background');"
   ]
  },
  {
   "cell_type": "markdown",
   "metadata": {},
   "source": [
    "## Another, better method (fast and good)\n",
    "\n",
    "We could try to cut the TPF straight out of the FFI that we downloaded for the cluster. To do this, we need a function that maps (RA, dec) $\\rightarrow$(x, y on FFI)."
   ]
  },
  {
   "cell_type": "code",
   "execution_count": 73,
   "metadata": {},
   "outputs": [],
   "source": [
    "### This function is flawed. I will fix it.\n",
    "\n",
    "def globalToImageCoords(ra, dec, centerRA, centerDec):\n",
    "    IMAGE_SIZE_PIXELS = 180\n",
    "    IMAGE_SIZE_DEGREES = 1\n",
    "    x = (ra - centerRA) * IMAGE_SIZE_PIXELS / IMAGE_SIZE_DEGREES + IMAGE_SIZE_PIXELS // 2\n",
    "    y = (dec - centerDec) * IMAGE_SIZE_PIXELS / IMAGE_SIZE_DEGREES + IMAGE_SIZE_PIXELS // 2\n",
    "    return (int(x), int(y))"
   ]
  },
  {
   "cell_type": "markdown",
   "metadata": {},
   "source": [
    "Here's the goal: what if we use the background subtraction that was generated when we made the cluster lightcurves, so that all we have to do is make an aperture for each star and take the star's lightcurve? To do that, we need to download the ffi for the whole cluster (actually, we just have to take it from the directory it is already stored in since it was downloaded using *cluster\\_lightcurves.ipynb*)"
   ]
  },
  {
   "cell_type": "code",
   "execution_count": 59,
   "metadata": {},
   "outputs": [],
   "source": [
    "foundLocal = False\n",
    "tpf = 0\n",
    "for file in os.listdir(LIGHTKURVE_CACHE):\n",
    "    if file.endswith(\"180x180_astrocut.fits\"): # Confirm size\n",
    "        if COORDS[CLUSTER][0] == float(file.split(\"_\")[-4]): # Confirm RA\n",
    "            if COORDS[CLUSTER][1] == float(file.split(\"_\")[-3]): # Confirm dec\n",
    "                tpf = lk.TessTargetPixelFile(LIGHTKURVE_CACHE + file)\n",
    "                foundLocal = True\n",
    "                break\n",
    "if not foundLocal:\n",
    "    raise Exception(\"This was supposed to be pre-downloaded :(\")\n",
    "    \n",
    "avg_image = np.mean(tpf.flux, axis=0)"
   ]
  },
  {
   "cell_type": "markdown",
   "metadata": {},
   "source": [
    "Now I need to make the masks for the cluster."
   ]
  },
  {
   "cell_type": "code",
   "execution_count": 60,
   "metadata": {},
   "outputs": [],
   "source": [
    "def countMaxima(data):\n",
    "    stars = 0\n",
    "    \n",
    "    def getValue(x, y):\n",
    "        if x < 0 or x >= data.shape[0] or y < 0 or y >= data.shape[0]:\n",
    "            return 0 # Count this pixel as automatically smaller than everything else\n",
    "        if np.isnan(data[x][y]):\n",
    "            return 0 # Count this pixel as automatically smaller than everything else.\n",
    "        if data[x][y] < LOWER_LIMIT:\n",
    "            return 0 # Count this pixel as automatically smaller than everything else.\n",
    "        return data[x][y]\n",
    "        \n",
    "    for x in range(data.shape[0]):\n",
    "        for y in range(data.shape[1]):\n",
    "            b = data[x][y]\n",
    "            if np.isnan(b): continue # Don't count nan pixels\n",
    "            if b < LOWER_LIMIT: continue # Don't count pixels on edge of sector\n",
    "            up = getValue(x, y-1)\n",
    "            down = getValue(x, y+1)\n",
    "            left = getValue(x-1, y)\n",
    "            right = getValue(x+1, y)\n",
    "            if b > max(up, down, left, right):\n",
    "                stars += 1\n",
    "    return stars"
   ]
  },
  {
   "cell_type": "code",
   "execution_count": 61,
   "metadata": {},
   "outputs": [],
   "source": [
    "def getLimitMaximaMethod():\n",
    "    numMaxima = countMaxima(avg_image)\n",
    "    notNanMask = ~np.isnan(avg_image)\n",
    "    notEdgeMask = avg_image > LOWER_LIMIT\n",
    "    numPixels = np.count_nonzero(notNanMask & notEdgeMask) # Count the number of pixels that\n",
    "        # are not nan and are greater than LOWER_LIMIT.\n",
    "    n = 100 - SCALE_FACTOR * numMaxima / numPixels * 100\n",
    "    return np.nanpercentile(avg_image, n)# Upper limit of the sky pixel flux range"
   ]
  },
  {
   "cell_type": "code",
   "execution_count": 62,
   "metadata": {},
   "outputs": [],
   "source": [
    "upperLimit = getLimitMaximaMethod()\n",
    "skyMask = ((avg_image >= LOWER_LIMIT) & # Exclude edge pixels\n",
    "    (avg_image <= upperLimit)).reshape(180, 180).astype(bool)\n",
    "starMask = ((avg_image > upperLimit)).reshape(180, 180).astype(bool)"
   ]
  },
  {
   "cell_type": "markdown",
   "metadata": {},
   "source": [
    "The following method is not actually valid. I will have to remake the star mask, not simply cut it, because cutting it will include other, nearby stars."
   ]
  },
  {
   "cell_type": "code",
   "execution_count": 69,
   "metadata": {},
   "outputs": [
    {
     "name": "stdout",
     "output_type": "stream",
     "text": [
      "0.4367661647409875 180.0\n"
     ]
    }
   ],
   "source": [
    "### DON'T USE\n",
    "\n",
    "POSTCARD_SIZE = 18\n",
    "\n",
    "cutoutCenter = globalToImageCoords(coords.ra.value, coords.dec.value, COORDS[CLUSTER][0], COORDS[CLUSTER][1])\n",
    "cutoutRect = [cutoutCenter[0] - POSTCARD_SIZE // 2, cutoutCenter[1] - POSTCARD_SIZE // 2, \n",
    "              cutoutCenter[0] + POSTCARD_SIZE // 2, cutoutCenter[1] + POSTCARD_SIZE // 2]\n",
    "smallStarMask = np.zeros_like(starMask)\n",
    "for x in range(cutoutRect[0], cutoutRect[2]):\n",
    "    for y in range(cutoutRect[1], cutoutRect[3]):\n",
    "        smallStarMask = starMask[x][y]\n",
    "        \n",
    "smallStarMask = smallStarMask.astype(bool)"
   ]
  },
  {
   "cell_type": "markdown",
   "metadata": {},
   "source": [
    "Drawing the cutout image:"
   ]
  },
  {
   "cell_type": "code",
   "execution_count": 71,
   "metadata": {},
   "outputs": [
    {
     "data": {
      "image/png": "[encoded data removed]",
      "text/plain": [
       "<Figure size 1080x288 with 2 Axes>"
      ]
     },
     "metadata": {
      "needs_background": "light"
     },
     "output_type": "display_data"
    }
   ],
   "source": [
    "fig, (ax1, ax2) = plt.subplots(ncols=2, figsize=(15,4))\n",
    "ax1.imshow(avg_image[cutoutRect[1]:cutoutRect[3],cutoutRect[0]:cutoutRect[2]], vmax = np.nanpercentile(avg_image, 95));\n",
    "ax2.imshow(avg_image[cutoutRect[0]:cutoutRect[2],cutoutRect[1]:cutoutRect[3]], vmax = np.nanpercentile(avg_image, 95));"
   ]
  },
  {
   "cell_type": "markdown",
   "metadata": {},
   "source": [
    "## CDIPS\n",
    "\n",
    "Access the [CDIPS](https://archive.stsci.edu/hlsp/cdips#section-65c131d0-9994-46e6-a370-af9f2e3669cc) project. Don't run this. It took hours to run and then crashed."
   ]
  },
  {
   "cell_type": "code",
   "execution_count": null,
   "metadata": {},
   "outputs": [],
   "source": [
    "Please don't run this.\n",
    "\n",
    "from astroquery.mast import Observations\n",
    "\n",
    "# Search for CDIPS light curves within 0.001 degrees of V684 Mon.\n",
    "obs_table = Observations.query_criteria(objectname=\"V684 Mon\", radius=\".001 deg\", provenance_name=\"CDIPS\")\n",
    "print(\"Found \" + str(len(obs_table)) + \" CDIPS light curves.\")\n",
    "# Get list of available products for this Observation.\n",
    "cdips_products = Observations.get_product_list(obs_table)\n",
    "# Download the products for this Observation.\n",
    "manifest = Observations.download_products(cdips_products)\n",
    "\n",
    "# Search for CDIPS light curves directly based on TIC ID.\n",
    "ticid = '220314428'\n",
    "obs_table = Observations.query_criteria(target_name=ticid, provenance_name=\"CDIPS\")\n",
    "print(\"Found \" + str(len(obs_table)) + \" CDIPS light curves.\")\n",
    "# Get list of available products for this Observation.\n",
    "cdips_products = Observations.get_product_list(obs_table)\n",
    "# Download the products for this Observation.\n",
    "manifest = Observations.download_products(cdips_products)\n",
    "print(\"Done\")\n",
    "\n",
    "# Get all CDIPS light curves for a given Sector, may not work\n",
    "# depending on bandwidth and traffic, we suggest you use bulk\n",
    "# download scripts instead.\n",
    "sector_num = '6'\n",
    "print('Querying for CDIPS Sector ' + sector_num + \" Observations...\")\n",
    "obsTable = Observations.query_criteria(provenance_name = \"CDIPS\",\n",
    "                                       sequence_number = sector_num)\n",
    "print(\"Found a total of \" + str(len(obsTable)) + \" CDIPS targets.\")\n",
    "print('Downloading data products for these observations...')\n",
    "for obs in obsTable:\n",
    "    data_products = Observations.get_product_list(obs)\n",
    "    Observations.download_products(data_products)"
   ]
  },
  {
   "cell_type": "code",
   "execution_count": null,
   "metadata": {},
   "outputs": [],
   "source": []
  }
 ],
 "metadata": {
  "kernelspec": {
   "display_name": "Python 3",
   "language": "python",
   "name": "python3"
  },
  "language_info": {
   "codemirror_mode": {
    "name": "ipython",
    "version": 3
   },
   "file_extension": ".py",
   "mimetype": "text/x-python",
   "name": "python",
   "nbconvert_exporter": "python",
   "pygments_lexer": "ipython3",
   "version": "3.6.8"
  }
 },
 "nbformat": 4,
 "nbformat_minor": 4
}
