{
 "cells": [
  {
   "cell_type": "markdown",
   "metadata": {},
   "source": [
    "# Investigating the code Avi found for translating celestial coordinates to pixel coordinates\n",
    "\n"
   ]
  },
  {
   "cell_type": "code",
   "execution_count": 66,
   "metadata": {},
   "outputs": [],
   "source": [
    "import numpy as np\n",
    "import os\n",
    "from math import *\n",
    "from astroquery.mast import Catalogs\n",
    "from astropy.coordinates import SkyCoord\n",
    "from tess_stars2px import tess_stars2px_function_entry as tess_stars2px\n",
    "from astropy.io import ascii\n",
    "from astropy.table import Table\n",
    "from astropy import units as u\n",
    "import matplotlib.pyplot as plt\n",
    "import lightkurve as lk\n",
    "import eleanor\n",
    "import warnings\n",
    "warnings.filterwarnings('ignore')\n",
    "%matplotlib inline\n",
    "\n",
    "LIGHTKURVE_CACHE = \"/home/jtdinsmo/.lightkurve-cache/tesscut/\"\n",
    "PDC_DIR = \"/home/jtdinsmo/pdc-lightcurves/\"\n",
    "POSTCARD_SIZE = 15\n",
    "\n",
    "TIME = 1535\n",
    "FLUX_CEILING = 840\n",
    "FFI_SIZE_PIXELS = 180"
   ]
  },
  {
   "cell_type": "code",
   "execution_count": 67,
   "metadata": {},
   "outputs": [],
   "source": [
    "COORDS = {\"M34\":(40.53083, 42.74615), \"M7\":(268.46325, -34.79283), \"NGC 752\":(29.421, 37.785), \"IC 2391\": (130.133, -53.033), \n",
    "          \"NGC 6231\":(253.53546, -41.82667), \"Lambda Orionis\":(83.784490, 9.934156), \"NGC 3532\":(166.44923, -58.7705),\n",
    "          \"Collinder 140\":(111.113, -31.85),\n",
    "          \"Omega Cen\": (201.69121, -47.47686), \"47 Tuc\": (6.022329, -72.081444), \"NGC 6752\": (287.71575, -59.98185)}\n",
    "\n",
    "\n",
    "names = ['NGC 6231','Lambda Orionis','IC 2391','NGC 752','Omega Cen','M34','M7','NGC 3532','Collinder 140','47 Tuc', 'NGC 6752']"
   ]
  },
  {
   "cell_type": "code",
   "execution_count": 95,
   "metadata": {},
   "outputs": [],
   "source": [
    "class QueryStars:\n",
    "        \n",
    "    # Initialization \n",
    "    def __init__(self, name):\n",
    "        self.name = name\n",
    "        self.clusterRA = COORDS[self.name][0]\n",
    "        self.clusterDec = COORDS[self.name][1]\n",
    "        \n",
    "        # Two primary data products\n",
    "        self.tpf = self.get_tpf()\n",
    "        self.frame = self.tpf.flux.shape[0]//2\n",
    "        print(self.frame, self.tpf.time[self.frame])\n",
    "        self.brightData = self.getStarQuery()\n",
    "      \n",
    "    #Pre: The root directory along the right ascension, declination, and tpf of the cluster of interest must be defined\n",
    "    #Post: The target pixel file stored in the local directory of the given cluster is retrieved\n",
    "    def get_tpf(self):\n",
    "        for file in os.listdir(LIGHTKURVE_CACHE):\n",
    "            if file.endswith(\"180x180_astrocut.fits\"): # Confirm size\n",
    "                if self.clusterRA == float(file.split(\"_\")[-4]): # Confirm RA\n",
    "                    if self.clusterDec == float(file.split(\"_\")[-3]): # Confirm dec\n",
    "                        tpf = lk.TessTargetPixelFile(LIGHTKURVE_CACHE + file)\n",
    "                        return tpf \n",
    "    \n",
    "    # Pre: A working directory where query data is to be stored must be defined \n",
    "    # Post: Finds if query data is stored on local directory or downloads it using astroquery.mast\n",
    "    def getStarQuery(self):\n",
    "        if self.name + \".dat\" in os.listdir(\".\"):\n",
    "            brightData = Table.read(self.name + \".dat\", format=\"ascii\")\n",
    "        else:\n",
    "            catalogData = Catalogs.query_object(catalog=\"Tic\",objectname=self.name, radius=\"0.5 deg\")\n",
    "            catalogData = catalogData[catalogData[\"Tmag\"] <= 13]\n",
    "            ascii.write(catalogData, self.name + \".dat\")\n",
    "        return brightData\n",
    "    \n",
    "    #Pre: The directory where the PDC lightcurves are or will be stored must be defined\n",
    "    # Post: Retrieves lightcurve files stored on local directory or downloads the files from lightkurve\n",
    "    def get_PDC_LCFs(self):\n",
    "        foundLocal = False\n",
    "        lcfs = []\n",
    "        for file in os.listdir(PDC_DIR):\n",
    "            if file.endswith(\"_lc.fits\"):\n",
    "                lcfs.append(lk.TessLightCurveFile(PDC_DIR + file))\n",
    "                foundLocal = True       \n",
    "        \n",
    "        if foundLocal == False:\n",
    "            for i in range(len(brightData)):\n",
    "                coords = SkyCoord(ra=self.brightData[i][\"ra\"], dec=self.brightData[i][\"dec\"], unit=(u.deg, u.deg))\n",
    "                results = lk.search_lightcurvefile(coords)\n",
    "                lcf = results.download(download_dir=PDC_DIR)\n",
    "                if isinstance(lcf,lk.lightcurvefile.TessLightCurveFile):\n",
    "                    lcfs.append(lcf)\n",
    "        return lcfs\n",
    "    \n",
    "    # Pre: The star must have a tic, ra, and dec and the cluster must have an ra and dec\n",
    "    # Post: Pixel coordinates for star on FFI of cluster are returned\n",
    "    def generateCutout(self, starIndex):\n",
    "        \n",
    "        starRA = self.brightData[starIndex]['ra']\n",
    "        starDec = self.brightData[starIndex]['dec']\n",
    "        starTIC = self.brightData[starIndex]['ID']\n",
    "        \n",
    "        sector = self.tpf.header['sector']\n",
    "        \n",
    "        star_dat = tess_stars2px(starTIC, starRA, starDec, trySector=sector)\n",
    "        colStarPix = star_dat[6]\n",
    "        rowStarPix = star_dat[7]\n",
    "        \n",
    "        cluster_dat = tess_stars2px(6789998212, self.clusterRA, self.clusterDec, trySector=sector)# What is this?\n",
    "        colClusterPix = cluster_dat[6]\n",
    "        rowClusterPix = cluster_dat[7]\n",
    "        \n",
    "        x = int((colStarPix - colClusterPix) + FFI_SIZE_PIXELS // 2)\n",
    "        y = int((rowStarPix - rowClusterPix) + FFI_SIZE_PIXELS // 2)\n",
    "        \n",
    "        return [x - (POSTCARD_SIZE // 2), y - (POSTCARD_SIZE // 2),\n",
    "                           x + (POSTCARD_SIZE // 2), y + (POSTCARD_SIZE // 2)]\n",
    "        \n",
    "                             \n",
    "    # Pre: The cutout tpf of the star must be acquired along with its right ascension and declination\n",
    "    # Post: Downloads eleanor postcard of individual star and shows tpfs of both eleanor and our cutom method\n",
    "    def compareTPF(self, starIndex):\n",
    "        ra = self.brightData[starIndex]['ra']\n",
    "        dec = self.brightData[starIndex]['dec']\n",
    "        \n",
    "        coords = SkyCoord(ra=ra, dec=dec, unit=(u.deg, u.deg))\n",
    "        \n",
    "        dimensions = self.generateCutout(starIndex)\n",
    "        cutoutImage = self.tpf.flux[self.frame][dimensions[1]:dimensions[3],dimensions[0]:dimensions[2]]\n",
    "        \n",
    "        fig, (ax1, ax2) = plt.subplots(ncols=2, figsize=(15,4))\n",
    "        ax1.imshow(cutoutImage, vmax = FLUX_CEILING);\n",
    "        ax1.axvline(POSTCARD_SIZE/2,linestyle='dashed',color='red')\n",
    "        ax1.axhline(POSTCARD_SIZE/2,linestyle='dashed',color='red')\n",
    "        ax1.set_title(\"Cutout of individual star from TPF\")\n",
    "        \n",
    "        search = lk.search_tesscut(str(ra) + ' ' + str(dec))\n",
    "        char = \"\"\n",
    "        if len(search) != 1: char = \"s\"\n",
    "        print(\"Star no. {0} has {1} result{2}.\".format(starIndex, len(search), char))\n",
    "        correctTpf = search[0].download(cutout_size=POSTCARD_SIZE)\n",
    "        \n",
    "        correctImage = correctTpf[correctTpf.flux.shape[0] // 2].flux.reshape((POSTCARD_SIZE, POSTCARD_SIZE))\n",
    "        ax2.imshow(correctImage, vmax = FLUX_CEILING);\n",
    "        ax2.axvline(7.5,linestyle='dashed',color='red')\n",
    "        ax2.axhline(7.5,linestyle='dashed',color='red')\n",
    "        ax2.set_title(\"Lightkurve (correct) TPF\")"
   ]
  },
  {
   "cell_type": "code",
   "execution_count": 96,
   "metadata": {},
   "outputs": [
    {
     "name": "stdout",
     "output_type": "stream",
     "text": [
      "481 1527.4501342773438\n"
     ]
    }
   ],
   "source": [
    "cluster = QueryStars(names[2]) # Cluster which we wish to query stars from"
   ]
  },
  {
   "cell_type": "code",
   "execution_count": 97,
   "metadata": {},
   "outputs": [
    {
     "name": "stdout",
     "output_type": "stream",
     "text": [
      "Star no. 250 has 2 results.\n"
     ]
    },
    {
     "ename": "NameError",
     "evalue": "name 'data' is not defined",
     "output_type": "error",
     "traceback": [
      "\u001b[0;31m---------------------------------------------------------------------------\u001b[0m",
      "\u001b[0;31mNameError\u001b[0m                                 Traceback (most recent call last)",
      "\u001b[0;32m<ipython-input-97-adc085853cf0>\u001b[0m in \u001b[0;36m<module>\u001b[0;34m\u001b[0m\n\u001b[1;32m      1\u001b[0m \u001b[0mstarIndex\u001b[0m \u001b[0;34m=\u001b[0m \u001b[0;36m250\u001b[0m\u001b[0;34m\u001b[0m\u001b[0;34m\u001b[0m\u001b[0m\n\u001b[1;32m      2\u001b[0m \u001b[0;34m\u001b[0m\u001b[0m\n\u001b[0;32m----> 3\u001b[0;31m \u001b[0mcluster\u001b[0m\u001b[0;34m.\u001b[0m\u001b[0mcompareTPF\u001b[0m\u001b[0;34m(\u001b[0m\u001b[0mstarIndex\u001b[0m\u001b[0;34m)\u001b[0m\u001b[0;34m\u001b[0m\u001b[0;34m\u001b[0m\u001b[0m\n\u001b[0m",
      "\u001b[0;32m<ipython-input-95-15cfc4a83dc6>\u001b[0m in \u001b[0;36mcompareTPF\u001b[0;34m(self, starIndex)\u001b[0m\n\u001b[1;32m    106\u001b[0m         \u001b[0max2\u001b[0m\u001b[0;34m.\u001b[0m\u001b[0maxhline\u001b[0m\u001b[0;34m(\u001b[0m\u001b[0;36m7.5\u001b[0m\u001b[0;34m,\u001b[0m\u001b[0mlinestyle\u001b[0m\u001b[0;34m=\u001b[0m\u001b[0;34m'dashed'\u001b[0m\u001b[0;34m,\u001b[0m\u001b[0mcolor\u001b[0m\u001b[0;34m=\u001b[0m\u001b[0;34m'red'\u001b[0m\u001b[0;34m)\u001b[0m\u001b[0;34m\u001b[0m\u001b[0;34m\u001b[0m\u001b[0m\n\u001b[1;32m    107\u001b[0m         \u001b[0max2\u001b[0m\u001b[0;34m.\u001b[0m\u001b[0mset_title\u001b[0m\u001b[0;34m(\u001b[0m\u001b[0;34m\"Lightkurve (correct) TPF\"\u001b[0m\u001b[0;34m)\u001b[0m\u001b[0;34m\u001b[0m\u001b[0;34m\u001b[0m\u001b[0m\n\u001b[0;32m--> 108\u001b[0;31m         \u001b[0;32mreturn\u001b[0m \u001b[0mdata\u001b[0m\u001b[0;34m\u001b[0m\u001b[0;34m\u001b[0m\u001b[0m\n\u001b[0m",
      "\u001b[0;31mNameError\u001b[0m: name 'data' is not defined"
     ]
    },
    {
     "data": {
      "image/png": "[encoded data removed]",
      "text/plain": [
       "<Figure size 1080x288 with 2 Axes>"
      ]
     },
     "metadata": {
      "needs_background": "light"
     },
     "output_type": "display_data"
    }
   ],
   "source": [
    "starIndex = 250\n",
    "\n",
    "cluster.compareTPF(starIndex)"
   ]
  },
  {
   "cell_type": "code",
   "execution_count": null,
   "metadata": {},
   "outputs": [],
   "source": []
  }
 ],
 "metadata": {
  "kernelspec": {
   "display_name": "Python 3",
   "language": "python",
   "name": "python3"
  },
  "language_info": {
   "codemirror_mode": {
    "name": "ipython",
    "version": 3
   },
   "file_extension": ".py",
   "mimetype": "text/x-python",
   "name": "python",
   "nbconvert_exporter": "python",
   "pygments_lexer": "ipython3",
   "version": "3.6.8"
  }
 },
 "nbformat": 4,
 "nbformat_minor": 4
}
